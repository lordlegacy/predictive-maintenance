{
 "cells": [
  {
   "cell_type": "code",
   "execution_count": 1,
   "metadata": {},
   "outputs": [
    {
     "name": "stderr",
     "output_type": "stream",
     "text": [
      "C:\\Users\\LEGACY\\AppData\\Local\\Temp\\ipykernel_4924\\3592585777.py:21: SettingWithCopyWarning: \n",
      "A value is trying to be set on a copy of a slice from a DataFrame.\n",
      "Try using .loc[row_indexer,col_indexer] = value instead\n",
      "\n",
      "See the caveats in the documentation: https://pandas.pydata.org/pandas-docs/stable/user_guide/indexing.html#returning-a-view-versus-a-copy\n",
      "  y['Failure Type'] = label_encoder.fit_transform(y['Failure Type'])\n"
     ]
    },
    {
     "name": "stdout",
     "output_type": "stream",
     "text": [
      "Logistic Regression Accuracy: 0.9696969696969697\n"
     ]
    },
    {
     "name": "stderr",
     "output_type": "stream",
     "text": [
      "c:\\Users\\LEGACY\\AppData\\Local\\Programs\\Python\\Python311\\Lib\\site-packages\\sklearn\\linear_model\\_logistic.py:460: ConvergenceWarning: lbfgs failed to converge (status=1):\n",
      "STOP: TOTAL NO. of ITERATIONS REACHED LIMIT.\n",
      "\n",
      "Increase the number of iterations (max_iter) or scale the data as shown in:\n",
      "    https://scikit-learn.org/stable/modules/preprocessing.html\n",
      "Please also refer to the documentation for alternative solver options:\n",
      "    https://scikit-learn.org/stable/modules/linear_model.html#logistic-regression\n",
      "  n_iter_i = _check_optimize_result(\n"
     ]
    }
   ],
   "source": [
    "import pandas as pd\n",
    "from sklearn.model_selection import train_test_split\n",
    "from sklearn.compose import ColumnTransformer\n",
    "from sklearn.preprocessing import OneHotEncoder, StandardScaler, LabelEncoder\n",
    "from sklearn.multioutput import MultiOutputClassifier\n",
    "from sklearn.linear_model import LogisticRegression\n",
    "import pickle\n",
    "\n",
    "# Read the dataset\n",
    "df = pd.read_csv('predictive_maintenance.csv')\n",
    "\n",
    "# Drop the first two columns from the dataset\n",
    "df.drop(df.columns[:2], axis=1, inplace=True)\n",
    "\n",
    "# Separate features (x) and target variables (y) for both 'Target' and 'Failure Type'\n",
    "x = df.drop(['Target', 'Failure Type'], axis=1)\n",
    "y = df[['Target', 'Failure Type']]\n",
    "\n",
    "# Convert 'Failure Type' to numerical using LabelEncoder\n",
    "label_encoder = LabelEncoder()\n",
    "y['Failure Type'] = label_encoder.fit_transform(y['Failure Type'])\n",
    "\n",
    "# Split the dataset into training and testing sets\n",
    "X_train, X_test, y_train, y_test = train_test_split(x, y, test_size=0.33, random_state=42)\n",
    "\n",
    "# Identify categorical columns in the training set\n",
    "cat_cols = X_train.select_dtypes(include='O').columns.tolist()\n",
    "\n",
    "# Identify numerical columns in the training set\n",
    "num_cols = X_train.select_dtypes(exclude='O').columns.tolist()\n",
    "\n",
    "# Create a Column Transformer for encoding and scaling\n",
    "enc = OneHotEncoder(handle_unknown='ignore')\n",
    "sc = StandardScaler()\n",
    "\n",
    "ct = ColumnTransformer(\n",
    "    [\n",
    "        ('encoding', enc, cat_cols),\n",
    "        ('scaling', sc, num_cols)\n",
    "    ]\n",
    ")\n",
    "\n",
    "# Transform the training and testing sets\n",
    "x_train = ct.fit_transform(X_train)\n",
    "x_test = ct.transform(X_test)\n",
    "\n",
    "# Train a Logistic Regression model for multi-output classification\n",
    "clf = MultiOutputClassifier(LogisticRegression())\n",
    "clf.fit(x_train, y_train)\n",
    "\n",
    "# Print the accuracy of the Logistic Regression model on the test set\n",
    "accuracy = clf.score(x_test, y_test)\n",
    "print(\"Logistic Regression Accuracy:\", accuracy)\n",
    "\n",
    "# Save the final model and the fitted ColumnTransformer using pickle\n",
    "with open('modelfinal 2.0.pkl', 'wb') as model_file:\n",
    "    pickle.dump(clf, model_file)\n",
    "\n",
    "with open('column_transformer 2.0.pkl', 'wb') as ct_file:\n",
    "    pickle.dump(ct, ct_file)\n",
    "\n",
    "# Save the LabelEncoder for future use during predictions\n",
    "with open('label_encoder.pkl', 'wb') as le_file:\n",
    "    pickle.dump(label_encoder, le_file)\n"
   ]
  }
 ],
 "metadata": {
  "kernelspec": {
   "display_name": "Python 3",
   "language": "python",
   "name": "python3"
  },
  "language_info": {
   "codemirror_mode": {
    "name": "ipython",
    "version": 3
   },
   "file_extension": ".py",
   "mimetype": "text/x-python",
   "name": "python",
   "nbconvert_exporter": "python",
   "pygments_lexer": "ipython3",
   "version": "3.11.4"
  }
 },
 "nbformat": 4,
 "nbformat_minor": 2
}
