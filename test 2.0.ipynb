{
 "cells": [
  {
   "cell_type": "code",
   "execution_count": 3,
   "metadata": {},
   "outputs": [
    {
     "name": "stdout",
     "output_type": "stream",
     "text": [
      "Predicted Target: [0]\n",
      "Predicted Failure Type: ['No Failure']\n"
     ]
    }
   ],
   "source": [
    "import pandas as pd\n",
    "import pickle\n",
    "from sklearn.compose import ColumnTransformer\n",
    "\n",
    "# Load the trained model\n",
    "with open('modelfinal 2.0.pkl', 'rb') as model_file:\n",
    "    loaded_model = pickle.load(model_file)\n",
    "\n",
    "# Load the fitted ColumnTransformer\n",
    "with open('column_transformer 2.0.pkl', 'rb') as ct_file:\n",
    "    fitted_ct = pickle.load(ct_file)\n",
    "\n",
    "# Load the LabelEncoder for 'Failure Type'\n",
    "with open('label_encoder.pkl', 'rb') as le_file:\n",
    "    label_encoder = pickle.load(le_file)\n",
    "\n",
    "# Example: Create a DataFrame without the 'Target' and 'Failure Type' columns\n",
    "new_sample = pd.DataFrame({\n",
    "    'Type': ['L'],\n",
    "    'Air temperature [K]': [290],\n",
    "    'Process temperature [K]': [300],\n",
    "    'Rotational speed [rpm]': [2221],\n",
    "    'Torque [Nm]': [4],\n",
    "    'Tool wear [min]': [13],\n",
    "})\n",
    "\n",
    "# Transform the new sample using the loaded ColumnTransformer\n",
    "new_sample_transformed = fitted_ct.transform(new_sample)\n",
    "\n",
    "# Make predictions using the loaded model\n",
    "predictions = loaded_model.predict(new_sample_transformed)\n",
    "\n",
    "# Decode the predicted 'Failure Type' using the LabelEncoder\n",
    "predicted_failure_type = label_encoder.inverse_transform(predictions[:, 1])\n",
    "\n",
    "# Print or use the predictions as needed\n",
    "print(\"Predicted Target:\", predictions[:, 0])\n",
    "print(\"Predicted Failure Type:\", predicted_failure_type)\n"
   ]
  }
 ],
 "metadata": {
  "kernelspec": {
   "display_name": "Python 3",
   "language": "python",
   "name": "python3"
  },
  "language_info": {
   "codemirror_mode": {
    "name": "ipython",
    "version": 3
   },
   "file_extension": ".py",
   "mimetype": "text/x-python",
   "name": "python",
   "nbconvert_exporter": "python",
   "pygments_lexer": "ipython3",
   "version": "3.11.4"
  }
 },
 "nbformat": 4,
 "nbformat_minor": 2
}
